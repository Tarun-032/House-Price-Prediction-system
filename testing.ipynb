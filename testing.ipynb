{
 "cells": [
  {
   "cell_type": "code",
   "execution_count": 16,
   "id": "cd373d17-dc1b-4148-89ed-cd5f6ddf4c41",
   "metadata": {},
   "outputs": [],
   "source": [
    "import pandas as pd\n",
    "from sklearn.preprocessing import LabelEncoder\n",
    "from joblib import load\n"
   ]
  },
  {
   "cell_type": "code",
   "execution_count": 17,
   "id": "29590fc9-46e7-4f65-a303-036743c4caef",
   "metadata": {},
   "outputs": [],
   "source": [
    "test_df = pd.read_csv(\"C:/Users/tarun/OneDrive/Desktop/House Prediction 1/test.csv\")\n"
   ]
  },
  {
   "cell_type": "code",
   "execution_count": 19,
   "id": "41350993-7bf9-45dd-99d5-c73c207cdfc3",
   "metadata": {},
   "outputs": [
    {
     "name": "stdout",
     "output_type": "stream",
     "text": [
      "Test dataset:\n",
      "     Id  MSSubClass MSZoning  LotFrontage  LotArea Street Alley LotShape  \\\n",
      "0  1461          20       RH         80.0    11622   Pave   NaN      Reg   \n",
      "1  1462          20       RL         81.0    14267   Pave   NaN      IR1   \n",
      "2  1463          60       RL         74.0    13830   Pave   NaN      IR1   \n",
      "3  1464          60       RL         78.0     9978   Pave   NaN      IR1   \n",
      "4  1465         120       RL         43.0     5005   Pave   NaN      IR1   \n",
      "\n",
      "  LandContour Utilities  ... ScreenPorch PoolArea PoolQC  Fence MiscFeature  \\\n",
      "0         Lvl    AllPub  ...         120        0    NaN  MnPrv         NaN   \n",
      "1         Lvl    AllPub  ...           0        0    NaN    NaN        Gar2   \n",
      "2         Lvl    AllPub  ...           0        0    NaN  MnPrv         NaN   \n",
      "3         Lvl    AllPub  ...           0        0    NaN    NaN         NaN   \n",
      "4         HLS    AllPub  ...         144        0    NaN    NaN         NaN   \n",
      "\n",
      "  MiscVal MoSold  YrSold  SaleType  SaleCondition  \n",
      "0       0      6    2010        WD         Normal  \n",
      "1   12500      6    2010        WD         Normal  \n",
      "2       0      3    2010        WD         Normal  \n",
      "3       0      6    2010        WD         Normal  \n",
      "4       0      1    2010        WD         Normal  \n",
      "\n",
      "[5 rows x 80 columns]\n"
     ]
    }
   ],
   "source": [
    "print(\"Test dataset:\")\n",
    "print(test_df.head())"
   ]
  },
  {
   "cell_type": "code",
   "execution_count": 25,
   "id": "af38093d-58e4-414b-b74c-addf4e3550a7",
   "metadata": {},
   "outputs": [],
   "source": [
    "label_encoder = load('C:/Users/tarun/OneDrive/Desktop/House Prediction 1/label_encoder.pkl')\n",
    "\n",
    "# Load the Linear Regression model\n",
    "model = load('C:/Users/tarun/OneDrive/Desktop/House Prediction 1/linear_regression_model.pkl')\n",
    "\n"
   ]
  },
  {
   "cell_type": "code",
   "execution_count": 27,
   "id": "d618b202-d24f-4f91-a974-c702bec5a868",
   "metadata": {},
   "outputs": [],
   "source": [
    "input_data = test_df[['GrLivArea', 'BedroomAbvGr', 'FullBath']]"
   ]
  },
  {
   "cell_type": "code",
   "execution_count": 28,
   "id": "36a4c9ba-04b9-42f6-b94e-f7d9353643c5",
   "metadata": {},
   "outputs": [],
   "source": [
    "categorical_columns = input_data.select_dtypes(include=['object']).columns\n",
    "\n",
    "for col in categorical_columns:\n",
    "    input_data[col] = label_encoder.transform(input_data[col].astype(str))"
   ]
  },
  {
   "cell_type": "code",
   "execution_count": 29,
   "id": "3b47ae72-60ed-4a35-a87e-9c890741201f",
   "metadata": {},
   "outputs": [],
   "source": [
    "input_data = input_data.fillna(0)\n"
   ]
  },
  {
   "cell_type": "code",
   "execution_count": 30,
   "id": "e6370fc1-483e-41ab-a5ab-0da27f326143",
   "metadata": {},
   "outputs": [],
   "source": [
    "predictions = model.predict(input_data)"
   ]
  },
  {
   "cell_type": "code",
   "execution_count": 32,
   "id": "0ed4aea3-f234-4c32-8dae-ef87e3c39f4a",
   "metadata": {},
   "outputs": [],
   "source": [
    "output_df = pd.DataFrame({\n",
    "    'Id': test_df['Id'],\n",
    "    'SalePrice': predictions\n",
    "})"
   ]
  },
  {
   "cell_type": "code",
   "execution_count": 33,
   "id": "dadeedd3-5fee-41da-a503-a77d517a87d4",
   "metadata": {},
   "outputs": [],
   "source": [
    "output_df.to_csv('C:/Users/tarun/OneDrive/Desktop/House Prediction 1/predictions.csv', index=False)"
   ]
  },
  {
   "cell_type": "code",
   "execution_count": 34,
   "id": "70f6f70c-97e0-4f86-96a4-b19770615262",
   "metadata": {},
   "outputs": [
    {
     "name": "stdout",
     "output_type": "stream",
     "text": [
      "        Id      SalePrice\n",
      "0     1461  122173.313104\n",
      "1     1462  140561.538683\n",
      "2     1463  201783.754896\n",
      "3     1464  199183.097221\n",
      "4     1465  192133.739106\n",
      "...    ...            ...\n",
      "1454  2915  115907.303921\n",
      "1455  2916  115907.303921\n",
      "1456  2917  102983.611090\n",
      "1457  2918  103216.094466\n",
      "1458  2919  240377.514797\n",
      "\n",
      "[1459 rows x 2 columns]\n"
     ]
    }
   ],
   "source": [
    "print(output_df)"
   ]
  },
  {
   "cell_type": "code",
   "execution_count": null,
   "id": "808ac856-2687-49be-854e-096d8e97d707",
   "metadata": {},
   "outputs": [],
   "source": []
  }
 ],
 "metadata": {
  "kernelspec": {
   "display_name": "Python 3 (ipykernel)",
   "language": "python",
   "name": "python3"
  },
  "language_info": {
   "codemirror_mode": {
    "name": "ipython",
    "version": 3
   },
   "file_extension": ".py",
   "mimetype": "text/x-python",
   "name": "python",
   "nbconvert_exporter": "python",
   "pygments_lexer": "ipython3",
   "version": "3.12.0"
  }
 },
 "nbformat": 4,
 "nbformat_minor": 5
}
